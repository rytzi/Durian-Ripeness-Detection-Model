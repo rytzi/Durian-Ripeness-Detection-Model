{
  "nbformat": 4,
  "nbformat_minor": 0,
  "metadata": {
    "colab": {
      "provenance": [],
      "mount_file_id": "1VhgsQGIMh3pdhYWha37Hhhu0L0Fadq_b",
      "authorship_tag": "ABX9TyPa/4Ve0WIIi8bPmk84Z9Cp",
      "include_colab_link": true
    },
    "kernelspec": {
      "name": "python3",
      "display_name": "Python 3"
    },
    "language_info": {
      "name": "python"
    }
  },
  "cells": [
    {
      "cell_type": "markdown",
      "metadata": {
        "id": "view-in-github",
        "colab_type": "text"
      },
      "source": [
        "<a href=\"https://colab.research.google.com/github/rytzi/Durian-Ripeness-Detection-Model/blob/main/Gas_Detection.ipynb\" target=\"_parent\"><img src=\"https://colab.research.google.com/assets/colab-badge.svg\" alt=\"Open In Colab\"/></a>"
      ]
    },
    {
      "cell_type": "code",
      "execution_count": null,
      "metadata": {
        "colab": {
          "base_uri": "https://localhost:8080/"
        },
        "id": "0HUTGFNPOhQ2",
        "outputId": "288f97d0-874c-42fe-878d-b0b6e96bb60b"
      },
      "outputs": [
        {
          "output_type": "stream",
          "name": "stdout",
          "text": [
            "Requirement already satisfied: tensorflow in /usr/local/lib/python3.10/dist-packages (2.15.0)\n",
            "Requirement already satisfied: absl-py>=1.0.0 in /usr/local/lib/python3.10/dist-packages (from tensorflow) (1.4.0)\n",
            "Requirement already satisfied: astunparse>=1.6.0 in /usr/local/lib/python3.10/dist-packages (from tensorflow) (1.6.3)\n",
            "Requirement already satisfied: flatbuffers>=23.5.26 in /usr/local/lib/python3.10/dist-packages (from tensorflow) (24.3.25)\n",
            "Requirement already satisfied: gast!=0.5.0,!=0.5.1,!=0.5.2,>=0.2.1 in /usr/local/lib/python3.10/dist-packages (from tensorflow) (0.5.4)\n",
            "Requirement already satisfied: google-pasta>=0.1.1 in /usr/local/lib/python3.10/dist-packages (from tensorflow) (0.2.0)\n",
            "Requirement already satisfied: h5py>=2.9.0 in /usr/local/lib/python3.10/dist-packages (from tensorflow) (3.9.0)\n",
            "Requirement already satisfied: libclang>=13.0.0 in /usr/local/lib/python3.10/dist-packages (from tensorflow) (18.1.1)\n",
            "Requirement already satisfied: ml-dtypes~=0.2.0 in /usr/local/lib/python3.10/dist-packages (from tensorflow) (0.2.0)\n",
            "Requirement already satisfied: numpy<2.0.0,>=1.23.5 in /usr/local/lib/python3.10/dist-packages (from tensorflow) (1.25.2)\n",
            "Requirement already satisfied: opt-einsum>=2.3.2 in /usr/local/lib/python3.10/dist-packages (from tensorflow) (3.3.0)\n",
            "Requirement already satisfied: packaging in /usr/local/lib/python3.10/dist-packages (from tensorflow) (24.0)\n",
            "Requirement already satisfied: protobuf!=4.21.0,!=4.21.1,!=4.21.2,!=4.21.3,!=4.21.4,!=4.21.5,<5.0.0dev,>=3.20.3 in /usr/local/lib/python3.10/dist-packages (from tensorflow) (3.20.3)\n",
            "Requirement already satisfied: setuptools in /usr/local/lib/python3.10/dist-packages (from tensorflow) (67.7.2)\n",
            "Requirement already satisfied: six>=1.12.0 in /usr/local/lib/python3.10/dist-packages (from tensorflow) (1.16.0)\n",
            "Requirement already satisfied: termcolor>=1.1.0 in /usr/local/lib/python3.10/dist-packages (from tensorflow) (2.4.0)\n",
            "Requirement already satisfied: typing-extensions>=3.6.6 in /usr/local/lib/python3.10/dist-packages (from tensorflow) (4.11.0)\n",
            "Requirement already satisfied: wrapt<1.15,>=1.11.0 in /usr/local/lib/python3.10/dist-packages (from tensorflow) (1.14.1)\n",
            "Requirement already satisfied: tensorflow-io-gcs-filesystem>=0.23.1 in /usr/local/lib/python3.10/dist-packages (from tensorflow) (0.37.0)\n",
            "Requirement already satisfied: grpcio<2.0,>=1.24.3 in /usr/local/lib/python3.10/dist-packages (from tensorflow) (1.63.0)\n",
            "Requirement already satisfied: tensorboard<2.16,>=2.15 in /usr/local/lib/python3.10/dist-packages (from tensorflow) (2.15.2)\n",
            "Requirement already satisfied: tensorflow-estimator<2.16,>=2.15.0 in /usr/local/lib/python3.10/dist-packages (from tensorflow) (2.15.0)\n",
            "Requirement already satisfied: keras<2.16,>=2.15.0 in /usr/local/lib/python3.10/dist-packages (from tensorflow) (2.15.0)\n",
            "Requirement already satisfied: wheel<1.0,>=0.23.0 in /usr/local/lib/python3.10/dist-packages (from astunparse>=1.6.0->tensorflow) (0.43.0)\n",
            "Requirement already satisfied: google-auth<3,>=1.6.3 in /usr/local/lib/python3.10/dist-packages (from tensorboard<2.16,>=2.15->tensorflow) (2.27.0)\n",
            "Requirement already satisfied: google-auth-oauthlib<2,>=0.5 in /usr/local/lib/python3.10/dist-packages (from tensorboard<2.16,>=2.15->tensorflow) (1.2.0)\n",
            "Requirement already satisfied: markdown>=2.6.8 in /usr/local/lib/python3.10/dist-packages (from tensorboard<2.16,>=2.15->tensorflow) (3.6)\n",
            "Requirement already satisfied: requests<3,>=2.21.0 in /usr/local/lib/python3.10/dist-packages (from tensorboard<2.16,>=2.15->tensorflow) (2.31.0)\n",
            "Requirement already satisfied: tensorboard-data-server<0.8.0,>=0.7.0 in /usr/local/lib/python3.10/dist-packages (from tensorboard<2.16,>=2.15->tensorflow) (0.7.2)\n",
            "Requirement already satisfied: werkzeug>=1.0.1 in /usr/local/lib/python3.10/dist-packages (from tensorboard<2.16,>=2.15->tensorflow) (3.0.2)\n",
            "Requirement already satisfied: cachetools<6.0,>=2.0.0 in /usr/local/lib/python3.10/dist-packages (from google-auth<3,>=1.6.3->tensorboard<2.16,>=2.15->tensorflow) (5.3.3)\n",
            "Requirement already satisfied: pyasn1-modules>=0.2.1 in /usr/local/lib/python3.10/dist-packages (from google-auth<3,>=1.6.3->tensorboard<2.16,>=2.15->tensorflow) (0.4.0)\n",
            "Requirement already satisfied: rsa<5,>=3.1.4 in /usr/local/lib/python3.10/dist-packages (from google-auth<3,>=1.6.3->tensorboard<2.16,>=2.15->tensorflow) (4.9)\n",
            "Requirement already satisfied: requests-oauthlib>=0.7.0 in /usr/local/lib/python3.10/dist-packages (from google-auth-oauthlib<2,>=0.5->tensorboard<2.16,>=2.15->tensorflow) (1.3.1)\n",
            "Requirement already satisfied: charset-normalizer<4,>=2 in /usr/local/lib/python3.10/dist-packages (from requests<3,>=2.21.0->tensorboard<2.16,>=2.15->tensorflow) (3.3.2)\n",
            "Requirement already satisfied: idna<4,>=2.5 in /usr/local/lib/python3.10/dist-packages (from requests<3,>=2.21.0->tensorboard<2.16,>=2.15->tensorflow) (3.7)\n",
            "Requirement already satisfied: urllib3<3,>=1.21.1 in /usr/local/lib/python3.10/dist-packages (from requests<3,>=2.21.0->tensorboard<2.16,>=2.15->tensorflow) (2.0.7)\n",
            "Requirement already satisfied: certifi>=2017.4.17 in /usr/local/lib/python3.10/dist-packages (from requests<3,>=2.21.0->tensorboard<2.16,>=2.15->tensorflow) (2024.2.2)\n",
            "Requirement already satisfied: MarkupSafe>=2.1.1 in /usr/local/lib/python3.10/dist-packages (from werkzeug>=1.0.1->tensorboard<2.16,>=2.15->tensorflow) (2.1.5)\n",
            "Requirement already satisfied: pyasn1<0.7.0,>=0.4.6 in /usr/local/lib/python3.10/dist-packages (from pyasn1-modules>=0.2.1->google-auth<3,>=1.6.3->tensorboard<2.16,>=2.15->tensorflow) (0.6.0)\n",
            "Requirement already satisfied: oauthlib>=3.0.0 in /usr/local/lib/python3.10/dist-packages (from requests-oauthlib>=0.7.0->google-auth-oauthlib<2,>=0.5->tensorboard<2.16,>=2.15->tensorflow) (3.2.2)\n"
          ]
        }
      ],
      "source": [
        "pip install tensorflow"
      ]
    },
    {
      "cell_type": "code",
      "source": [
        "import pandas as pd\n",
        "\n",
        "sensor_readings_df = pd.read_excel('/content/Aroma Training Data.xlsx', sheet_name='Sensor Readings', header=None).T\n",
        "ripeness_labels_df = pd.read_excel('/content/Aroma Training Data.xlsx', sheet_name='Ripeness Labels', header=None)\n",
        "\n",
        "sensor_readings_ripe = sensor_readings_df.values.tolist()\n",
        "\n",
        "print(sensor_readings_df.shape)"
      ],
      "metadata": {
        "id": "GLoPZHegcfpu",
        "colab": {
          "base_uri": "https://localhost:8080/",
          "height": 0
        },
        "outputId": "36bc114b-3136-4920-f0c3-11f1d4c649cb"
      },
      "execution_count": 5,
      "outputs": [
        {
          "output_type": "stream",
          "name": "stdout",
          "text": [
            "(60, 20)\n"
          ]
        }
      ]
    },
    {
      "cell_type": "code",
      "source": [
        "import pandas as pd\n",
        "\n",
        "ripeness_labels_dict = dict(ripeness_labels_df.values)\n",
        "\n",
        "ripe_readings = []\n",
        "unripe_readings = []\n",
        "\n",
        "for index, label in ripeness_labels_dict.items():\n",
        "    if label == 'Ripe':\n",
        "        ripe_readings.append(sensor_readings_df[index].tolist())\n",
        "    elif label == 'Unripe':\n",
        "        unripe_readings.append(sensor_readings_df[index].tolist())\n",
        "\n",
        "print(\"Ripe Readings:\")\n",
        "print(ripe_readings)\n",
        "\n",
        "print(\"\\nUnripe Readings:\")\n",
        "print(unripe_readings)"
      ],
      "metadata": {
        "colab": {
          "base_uri": "https://localhost:8080/",
          "height": 0
        },
        "id": "RqB-lIAGv2Ew",
        "outputId": "273bd45f-80a2-4ed4-f741-ca600a741d21"
      },
      "execution_count": 8,
      "outputs": [
        {
          "output_type": "stream",
          "name": "stdout",
          "text": [
            "Ripe Readings:\n",
            "[[1133, 1031, 939, 1451, 944, 983, 1245, 1217, 1134, 1150, 954, 816, 813, 839, 929, 768, 813, 720, 975, 833], [1163, 1207, 1098, 1478, 1045, 1069, 1247, 1213, 1133, 1153, 1023, 894, 868, 930, 1023, 834, 800, 732, 1001, 859], [1190, 1311, 1175, 1441, 995, 1104, 1250, 1209, 1132, 1156, 1061, 938, 901, 959, 1060, 870, 848, 784, 1021, 874], [1222, 1363, 1236, 1429, 1072, 1129, 1255, 1205, 1131, 1159, 1079, 960, 915, 973, 1005, 837, 818, 752, 1035, 885], [1231, 1392, 1263, 1457, 1019, 1140, 1258, 1201, 1130, 1162, 1085, 975, 929, 978, 1079, 895, 878, 797, 1042, 892], [1232, 1222, 1276, 1447, 1084, 1149, 1260, 1197, 1129, 1165, 1086, 979, 935, 981, 1063, 866, 840, 801, 1048, 897], [1247, 1403, 1279, 1402, 1089, 1151, 1265, 1193, 1128, 1168, 1087, 983, 938, 976, 1068, 889, 881, 767, 1052, 900], [1239, 1405, 1280, 1446, 1091, 1150, 1268, 1189, 1127, 1171, 1083, 987, 937, 987, 1083, 900, 847, 796, 1056, 902], [1241, 1402, 1279, 1449, 1091, 1150, 1272, 1185, 1126, 1174, 1079, 987, 935, 976, 1088, 885, 885, 790, 1061, 903], [1235, 1396, 1276, 1441, 1061, 1147, 1275, 1181, 1125, 1177, 1066, 988, 937, 951, 1081, 840, 848, 782, 1063, 903]]\n",
            "\n",
            "Unripe Readings:\n",
            "[[1235, 1392, 1270, 1429, 1093, 1145, 1278, 1177, 1124, 1180, 1072, 987, 939, 990, 1007, 882, 894, 784, 1066, 904], [1226, 1387, 1266, 1426, 1053, 1142, 1280, 1173, 1123, 1183, 1070, 987, 927, 983, 1078, 884, 896, 787, 1068, 904], [1233, 1380, 1264, 1430, 1094, 1141, 1282, 1169, 1122, 1186, 1067, 986, 937, 962, 1075, 887, 894, 787, 1070, 904], [1239, 1373, 1261, 1360, 1055, 1143, 1285, 1165, 1121, 1189, 1067, 983, 934, 989, 1074, 867, 863, 795, 1071, 904], [1243, 1365, 1259, 1423, 1083, 1152, 1287, 1161, 1120, 1192, 1061, 983, 934, 986, 1084, 886, 882, 763, 1072, 904], [1252, 1360, 1253, 1412, 1075, 1163, 1290, 1157, 1119, 1195, 1059, 984, 934, 991, 1078, 887, 882, 797, 1072, 904], [1243, 1355, 1248, 1405, 1020, 1171, 1293, 1153, 1118, 1198, 1059, 981, 933, 985, 1053, 889, 881, 759, 1073, 904], [1241, 1346, 1243, 1451, 1023, 1179, 1296, 1149, 1117, 1201, 1055, 983, 935, 934, 1061, 887, 881, 794, 1074, 904], [1238, 1342, 1238, 1405, 1075, 1170, 1299, 1145, 1116, 1204, 1050, 980, 931, 967, 1040, 885, 881, 791, 1075, 904], [1241, 1338, 1232, 1408, 1078, 1182, 1302, 1141, 1115, 1207, 1048, 981, 929, 977, 1054, 833, 889, 753, 1075, 904]]\n"
          ]
        }
      ]
    },
    {
      "cell_type": "code",
      "source": [
        "import numpy as np\n",
        "from sklearn.model_selection import train_test_split\n",
        "from tensorflow.keras.models import Sequential\n",
        "from tensorflow.keras.layers import Dense, Flatten\n",
        "from tensorflow.keras.layers import Dropout\n",
        "from sklearn.model_selection import GridSearchCV\n",
        "\n",
        "X_ripe = np.array(ripe_readings)\n",
        "X_unripe = np.array(unripe_readings)\n",
        "\n",
        "y_ripe = np.ones(len(ripe_readings))\n",
        "y_unripe = np.zeros(len(unripe_readings))\n",
        "\n",
        "X = np.concatenate((X_ripe, X_unripe), axis=0)\n",
        "y = np.concatenate((y_ripe, y_unripe))\n",
        "\n",
        "indices = np.arange(X.shape[0])\n",
        "np.random.shuffle(indices)\n",
        "X = X[indices]\n",
        "y = y[indices]\n",
        "\n",
        "split = int(0.8 * len(X))\n",
        "X_train, X_test = X[:split], X[split:]\n",
        "y_train, y_test = y[:split], y[split:]\n",
        "\n",
        "model = Sequential([\n",
        "    Dense(128, activation='relu', input_shape=(len(X_train[0]),)),\n",
        "    Dropout(0.5),\n",
        "    Dense(64, activation='relu'),\n",
        "    Dropout(0.5),\n",
        "    Dense(32, activation='relu'),\n",
        "    Dropout(0.5),\n",
        "    Dense(1, activation='sigmoid')\n",
        "])\n",
        "model.compile(optimizer='adam', loss='binary_crossentropy', metrics=['accuracy'])\n",
        "model.fit(X_train, y_train, epochs=100, batch_size=32, validation_data=(X_test, y_test))\n",
        "\n",
        "loss, accuracy = model.evaluate(X_test, y_test)\n",
        "print(\"Test Loss:\", loss)\n",
        "print(\"Test Accuracy:\", accuracy)"
      ],
      "metadata": {
        "colab": {
          "base_uri": "https://localhost:8080/",
          "height": 0
        },
        "id": "upn3D_nLOtRK",
        "outputId": "b997de50-c3b8-4e4f-f22f-e4c4b73d46a1"
      },
      "execution_count": 13,
      "outputs": [
        {
          "output_type": "stream",
          "name": "stdout",
          "text": [
            "Epoch 1/100\n",
            "1/1 [==============================] - 1s 763ms/step - loss: 476.0482 - accuracy: 0.6250 - val_loss: 350.0267 - val_accuracy: 0.2500\n",
            "Epoch 2/100\n",
            "1/1 [==============================] - 0s 24ms/step - loss: 410.3404 - accuracy: 0.5625 - val_loss: 281.8433 - val_accuracy: 0.2500\n",
            "Epoch 3/100\n",
            "1/1 [==============================] - 0s 25ms/step - loss: 296.6416 - accuracy: 0.5000 - val_loss: 223.5950 - val_accuracy: 0.2500\n",
            "Epoch 4/100\n",
            "1/1 [==============================] - 0s 26ms/step - loss: 349.7037 - accuracy: 0.6875 - val_loss: 173.2024 - val_accuracy: 0.2500\n",
            "Epoch 5/100\n",
            "1/1 [==============================] - 0s 24ms/step - loss: 313.5188 - accuracy: 0.5000 - val_loss: 127.6691 - val_accuracy: 0.2500\n",
            "Epoch 6/100\n",
            "1/1 [==============================] - 0s 26ms/step - loss: 53.5302 - accuracy: 0.6875 - val_loss: 88.5173 - val_accuracy: 0.2500\n",
            "Epoch 7/100\n",
            "1/1 [==============================] - 0s 26ms/step - loss: 103.4373 - accuracy: 0.6250 - val_loss: 58.7578 - val_accuracy: 0.2500\n",
            "Epoch 8/100\n",
            "1/1 [==============================] - 0s 24ms/step - loss: 414.3932 - accuracy: 0.2500 - val_loss: 35.2878 - val_accuracy: 0.2500\n",
            "Epoch 9/100\n",
            "1/1 [==============================] - 0s 26ms/step - loss: 280.0110 - accuracy: 0.1875 - val_loss: 14.3328 - val_accuracy: 0.2500\n",
            "Epoch 10/100\n",
            "1/1 [==============================] - 0s 28ms/step - loss: 284.3682 - accuracy: 0.5000 - val_loss: 0.1254 - val_accuracy: 1.0000\n",
            "Epoch 11/100\n",
            "1/1 [==============================] - 0s 25ms/step - loss: 141.0881 - accuracy: 0.6875 - val_loss: 2.1882 - val_accuracy: 0.7500\n",
            "Epoch 12/100\n",
            "1/1 [==============================] - 0s 28ms/step - loss: 243.6263 - accuracy: 0.5625 - val_loss: 5.9271 - val_accuracy: 0.7500\n",
            "Epoch 13/100\n",
            "1/1 [==============================] - 0s 22ms/step - loss: 108.0566 - accuracy: 0.5625 - val_loss: 9.8733 - val_accuracy: 0.7500\n",
            "Epoch 14/100\n",
            "1/1 [==============================] - 0s 22ms/step - loss: 73.4119 - accuracy: 0.6250 - val_loss: 12.4290 - val_accuracy: 0.7500\n",
            "Epoch 15/100\n",
            "1/1 [==============================] - 0s 21ms/step - loss: 213.7207 - accuracy: 0.3125 - val_loss: 14.1760 - val_accuracy: 0.7500\n",
            "Epoch 16/100\n",
            "1/1 [==============================] - 0s 23ms/step - loss: 107.4080 - accuracy: 0.5625 - val_loss: 15.7984 - val_accuracy: 0.7500\n",
            "Epoch 17/100\n",
            "1/1 [==============================] - 0s 24ms/step - loss: 192.7234 - accuracy: 0.3750 - val_loss: 16.3984 - val_accuracy: 0.7500\n",
            "Epoch 18/100\n",
            "1/1 [==============================] - 0s 24ms/step - loss: 101.9027 - accuracy: 0.6250 - val_loss: 16.3046 - val_accuracy: 0.7500\n",
            "Epoch 19/100\n",
            "1/1 [==============================] - 0s 23ms/step - loss: 207.9223 - accuracy: 0.3750 - val_loss: 15.5447 - val_accuracy: 0.7500\n",
            "Epoch 20/100\n",
            "1/1 [==============================] - 0s 26ms/step - loss: 103.9519 - accuracy: 0.5625 - val_loss: 15.2981 - val_accuracy: 0.7500\n",
            "Epoch 21/100\n",
            "1/1 [==============================] - 0s 26ms/step - loss: 107.7747 - accuracy: 0.5000 - val_loss: 15.8816 - val_accuracy: 0.7500\n",
            "Epoch 22/100\n",
            "1/1 [==============================] - 0s 26ms/step - loss: 201.0802 - accuracy: 0.5625 - val_loss: 16.1421 - val_accuracy: 0.7500\n",
            "Epoch 23/100\n",
            "1/1 [==============================] - 0s 28ms/step - loss: 115.4970 - accuracy: 0.3125 - val_loss: 15.8642 - val_accuracy: 0.7500\n",
            "Epoch 24/100\n",
            "1/1 [==============================] - 0s 25ms/step - loss: 68.3425 - accuracy: 0.5625 - val_loss: 15.8046 - val_accuracy: 0.7500\n",
            "Epoch 25/100\n",
            "1/1 [==============================] - 0s 25ms/step - loss: 86.3241 - accuracy: 0.6250 - val_loss: 15.8300 - val_accuracy: 0.7500\n",
            "Epoch 26/100\n",
            "1/1 [==============================] - 0s 24ms/step - loss: 118.6471 - accuracy: 0.6250 - val_loss: 15.5411 - val_accuracy: 0.7500\n",
            "Epoch 27/100\n",
            "1/1 [==============================] - 0s 30ms/step - loss: 172.0480 - accuracy: 0.3125 - val_loss: 15.1630 - val_accuracy: 0.7500\n",
            "Epoch 28/100\n",
            "1/1 [==============================] - 0s 35ms/step - loss: 64.5047 - accuracy: 0.6875 - val_loss: 14.6130 - val_accuracy: 0.7500\n",
            "Epoch 29/100\n",
            "1/1 [==============================] - 0s 26ms/step - loss: 164.7831 - accuracy: 0.3125 - val_loss: 14.0380 - val_accuracy: 0.7500\n",
            "Epoch 30/100\n",
            "1/1 [==============================] - 0s 25ms/step - loss: 91.1630 - accuracy: 0.5000 - val_loss: 13.3024 - val_accuracy: 0.7500\n",
            "Epoch 31/100\n",
            "1/1 [==============================] - 0s 23ms/step - loss: 125.5264 - accuracy: 0.5000 - val_loss: 12.7439 - val_accuracy: 0.7500\n",
            "Epoch 32/100\n",
            "1/1 [==============================] - 0s 24ms/step - loss: 98.7987 - accuracy: 0.6250 - val_loss: 12.0289 - val_accuracy: 0.7500\n",
            "Epoch 33/100\n",
            "1/1 [==============================] - 0s 24ms/step - loss: 119.7263 - accuracy: 0.5625 - val_loss: 11.4175 - val_accuracy: 0.7500\n",
            "Epoch 34/100\n",
            "1/1 [==============================] - 0s 27ms/step - loss: 115.7330 - accuracy: 0.4375 - val_loss: 10.9853 - val_accuracy: 0.7500\n",
            "Epoch 35/100\n",
            "1/1 [==============================] - 0s 26ms/step - loss: 50.1490 - accuracy: 0.6875 - val_loss: 10.5662 - val_accuracy: 0.7500\n",
            "Epoch 36/100\n",
            "1/1 [==============================] - 0s 25ms/step - loss: 72.0973 - accuracy: 0.6250 - val_loss: 10.1744 - val_accuracy: 0.7500\n",
            "Epoch 37/100\n",
            "1/1 [==============================] - 0s 26ms/step - loss: 53.7823 - accuracy: 0.6875 - val_loss: 9.7494 - val_accuracy: 0.7500\n",
            "Epoch 38/100\n",
            "1/1 [==============================] - 0s 28ms/step - loss: 70.1924 - accuracy: 0.6875 - val_loss: 9.7127 - val_accuracy: 0.7500\n",
            "Epoch 39/100\n",
            "1/1 [==============================] - 0s 26ms/step - loss: 90.1309 - accuracy: 0.5000 - val_loss: 9.4891 - val_accuracy: 0.7500\n",
            "Epoch 40/100\n",
            "1/1 [==============================] - 0s 25ms/step - loss: 129.5778 - accuracy: 0.3750 - val_loss: 9.3593 - val_accuracy: 0.7500\n",
            "Epoch 41/100\n",
            "1/1 [==============================] - 0s 25ms/step - loss: 95.3809 - accuracy: 0.5625 - val_loss: 9.3925 - val_accuracy: 0.7500\n",
            "Epoch 42/100\n",
            "1/1 [==============================] - 0s 26ms/step - loss: 128.4243 - accuracy: 0.5000 - val_loss: 9.4526 - val_accuracy: 0.7500\n",
            "Epoch 43/100\n",
            "1/1 [==============================] - 0s 24ms/step - loss: 112.1204 - accuracy: 0.4375 - val_loss: 9.5752 - val_accuracy: 0.7500\n",
            "Epoch 44/100\n",
            "1/1 [==============================] - 0s 29ms/step - loss: 140.7841 - accuracy: 0.3750 - val_loss: 9.8046 - val_accuracy: 0.7500\n",
            "Epoch 45/100\n",
            "1/1 [==============================] - 0s 26ms/step - loss: 90.6738 - accuracy: 0.3750 - val_loss: 10.2014 - val_accuracy: 0.7500\n",
            "Epoch 46/100\n",
            "1/1 [==============================] - 0s 27ms/step - loss: 69.7969 - accuracy: 0.3750 - val_loss: 10.2810 - val_accuracy: 0.7500\n",
            "Epoch 47/100\n",
            "1/1 [==============================] - 0s 27ms/step - loss: 122.7661 - accuracy: 0.5000 - val_loss: 10.3704 - val_accuracy: 0.7500\n",
            "Epoch 48/100\n",
            "1/1 [==============================] - 0s 26ms/step - loss: 12.8952 - accuracy: 0.7500 - val_loss: 10.2595 - val_accuracy: 0.7500\n",
            "Epoch 49/100\n",
            "1/1 [==============================] - 0s 26ms/step - loss: 41.3187 - accuracy: 0.5000 - val_loss: 10.0849 - val_accuracy: 0.7500\n",
            "Epoch 50/100\n",
            "1/1 [==============================] - 0s 23ms/step - loss: 63.5718 - accuracy: 0.3750 - val_loss: 9.7877 - val_accuracy: 0.7500\n",
            "Epoch 51/100\n",
            "1/1 [==============================] - 0s 24ms/step - loss: 73.7395 - accuracy: 0.3125 - val_loss: 9.2658 - val_accuracy: 0.7500\n",
            "Epoch 52/100\n",
            "1/1 [==============================] - 0s 26ms/step - loss: 75.6867 - accuracy: 0.5000 - val_loss: 8.8953 - val_accuracy: 0.7500\n",
            "Epoch 53/100\n",
            "1/1 [==============================] - 0s 25ms/step - loss: 74.7308 - accuracy: 0.5000 - val_loss: 8.3783 - val_accuracy: 0.7500\n",
            "Epoch 54/100\n",
            "1/1 [==============================] - 0s 23ms/step - loss: 86.1782 - accuracy: 0.4375 - val_loss: 8.0546 - val_accuracy: 0.7500\n",
            "Epoch 55/100\n",
            "1/1 [==============================] - 0s 25ms/step - loss: 98.2052 - accuracy: 0.4375 - val_loss: 7.7067 - val_accuracy: 0.7500\n",
            "Epoch 56/100\n",
            "1/1 [==============================] - 0s 24ms/step - loss: 66.7505 - accuracy: 0.6250 - val_loss: 7.1997 - val_accuracy: 0.7500\n",
            "Epoch 57/100\n",
            "1/1 [==============================] - 0s 25ms/step - loss: 95.9444 - accuracy: 0.5625 - val_loss: 6.8809 - val_accuracy: 0.7500\n",
            "Epoch 58/100\n",
            "1/1 [==============================] - 0s 25ms/step - loss: 64.1998 - accuracy: 0.4375 - val_loss: 6.5339 - val_accuracy: 0.7500\n",
            "Epoch 59/100\n",
            "1/1 [==============================] - 0s 24ms/step - loss: 83.8888 - accuracy: 0.5000 - val_loss: 6.1452 - val_accuracy: 0.7500\n",
            "Epoch 60/100\n",
            "1/1 [==============================] - 0s 23ms/step - loss: 54.1156 - accuracy: 0.5625 - val_loss: 5.7656 - val_accuracy: 0.7500\n",
            "Epoch 61/100\n",
            "1/1 [==============================] - 0s 24ms/step - loss: 41.4697 - accuracy: 0.5000 - val_loss: 5.3445 - val_accuracy: 0.7500\n",
            "Epoch 62/100\n",
            "1/1 [==============================] - 0s 24ms/step - loss: 76.6090 - accuracy: 0.2500 - val_loss: 5.0071 - val_accuracy: 0.7500\n",
            "Epoch 63/100\n",
            "1/1 [==============================] - 0s 26ms/step - loss: 62.1785 - accuracy: 0.5625 - val_loss: 4.6953 - val_accuracy: 0.7500\n",
            "Epoch 64/100\n",
            "1/1 [==============================] - 0s 25ms/step - loss: 110.9065 - accuracy: 0.4375 - val_loss: 4.2996 - val_accuracy: 0.7500\n",
            "Epoch 65/100\n",
            "1/1 [==============================] - 0s 33ms/step - loss: 75.4053 - accuracy: 0.4375 - val_loss: 4.0076 - val_accuracy: 0.7500\n",
            "Epoch 66/100\n",
            "1/1 [==============================] - 0s 22ms/step - loss: 76.1977 - accuracy: 0.3750 - val_loss: 3.3638 - val_accuracy: 0.7500\n",
            "Epoch 67/100\n",
            "1/1 [==============================] - 0s 24ms/step - loss: 20.6974 - accuracy: 0.6875 - val_loss: 2.7199 - val_accuracy: 0.7500\n",
            "Epoch 68/100\n",
            "1/1 [==============================] - 0s 24ms/step - loss: 36.0760 - accuracy: 0.6250 - val_loss: 2.3470 - val_accuracy: 0.7500\n",
            "Epoch 69/100\n",
            "1/1 [==============================] - 0s 25ms/step - loss: 83.4492 - accuracy: 0.3750 - val_loss: 2.0931 - val_accuracy: 0.7500\n",
            "Epoch 70/100\n",
            "1/1 [==============================] - 0s 25ms/step - loss: 52.8805 - accuracy: 0.5625 - val_loss: 1.7634 - val_accuracy: 0.7500\n",
            "Epoch 71/100\n",
            "1/1 [==============================] - 0s 25ms/step - loss: 59.6796 - accuracy: 0.6250 - val_loss: 1.4910 - val_accuracy: 0.7500\n",
            "Epoch 72/100\n",
            "1/1 [==============================] - 0s 24ms/step - loss: 55.9671 - accuracy: 0.4375 - val_loss: 1.3445 - val_accuracy: 0.7500\n",
            "Epoch 73/100\n",
            "1/1 [==============================] - 0s 54ms/step - loss: 73.8473 - accuracy: 0.3125 - val_loss: 1.1641 - val_accuracy: 0.7500\n",
            "Epoch 74/100\n",
            "1/1 [==============================] - 0s 46ms/step - loss: 34.8328 - accuracy: 0.3125 - val_loss: 1.0304 - val_accuracy: 0.5000\n",
            "Epoch 75/100\n",
            "1/1 [==============================] - 0s 51ms/step - loss: 63.2007 - accuracy: 0.3750 - val_loss: 1.0327 - val_accuracy: 0.5000\n",
            "Epoch 76/100\n",
            "1/1 [==============================] - 0s 32ms/step - loss: 33.3608 - accuracy: 0.5625 - val_loss: 1.0329 - val_accuracy: 0.5000\n",
            "Epoch 77/100\n",
            "1/1 [==============================] - 0s 34ms/step - loss: 68.7155 - accuracy: 0.5625 - val_loss: 1.0528 - val_accuracy: 0.7500\n",
            "Epoch 78/100\n",
            "1/1 [==============================] - 0s 35ms/step - loss: 38.9742 - accuracy: 0.3750 - val_loss: 1.1884 - val_accuracy: 0.7500\n",
            "Epoch 79/100\n",
            "1/1 [==============================] - 0s 31ms/step - loss: 17.9486 - accuracy: 0.6875 - val_loss: 1.5294 - val_accuracy: 0.7500\n",
            "Epoch 80/100\n",
            "1/1 [==============================] - 0s 49ms/step - loss: 38.0355 - accuracy: 0.7500 - val_loss: 1.9344 - val_accuracy: 0.7500\n",
            "Epoch 81/100\n",
            "1/1 [==============================] - 0s 49ms/step - loss: 104.9310 - accuracy: 0.1875 - val_loss: 2.1687 - val_accuracy: 0.7500\n",
            "Epoch 82/100\n",
            "1/1 [==============================] - 0s 47ms/step - loss: 34.4902 - accuracy: 0.5000 - val_loss: 2.2464 - val_accuracy: 0.7500\n",
            "Epoch 83/100\n",
            "1/1 [==============================] - 0s 34ms/step - loss: 40.4562 - accuracy: 0.5000 - val_loss: 2.2416 - val_accuracy: 0.7500\n",
            "Epoch 84/100\n",
            "1/1 [==============================] - 0s 30ms/step - loss: 38.2481 - accuracy: 0.5625 - val_loss: 2.3321 - val_accuracy: 0.7500\n",
            "Epoch 85/100\n",
            "1/1 [==============================] - 0s 31ms/step - loss: 31.8468 - accuracy: 0.6250 - val_loss: 2.3251 - val_accuracy: 0.7500\n",
            "Epoch 86/100\n",
            "1/1 [==============================] - 0s 30ms/step - loss: 39.4380 - accuracy: 0.6250 - val_loss: 2.2604 - val_accuracy: 0.7500\n",
            "Epoch 87/100\n",
            "1/1 [==============================] - 0s 27ms/step - loss: 24.9254 - accuracy: 0.6875 - val_loss: 2.1992 - val_accuracy: 0.7500\n",
            "Epoch 88/100\n",
            "1/1 [==============================] - 0s 53ms/step - loss: 27.6287 - accuracy: 0.4375 - val_loss: 2.1306 - val_accuracy: 0.7500\n",
            "Epoch 89/100\n",
            "1/1 [==============================] - 0s 32ms/step - loss: 15.0456 - accuracy: 0.4375 - val_loss: 2.0612 - val_accuracy: 0.7500\n",
            "Epoch 90/100\n",
            "1/1 [==============================] - 0s 39ms/step - loss: 36.6064 - accuracy: 0.5625 - val_loss: 2.0172 - val_accuracy: 0.7500\n",
            "Epoch 91/100\n",
            "1/1 [==============================] - 0s 56ms/step - loss: 39.6301 - accuracy: 0.4375 - val_loss: 1.9782 - val_accuracy: 0.7500\n",
            "Epoch 92/100\n",
            "1/1 [==============================] - 0s 36ms/step - loss: 45.4304 - accuracy: 0.5625 - val_loss: 1.9267 - val_accuracy: 0.7500\n",
            "Epoch 93/100\n",
            "1/1 [==============================] - 0s 31ms/step - loss: 48.6777 - accuracy: 0.3125 - val_loss: 1.9176 - val_accuracy: 0.7500\n",
            "Epoch 94/100\n",
            "1/1 [==============================] - 0s 33ms/step - loss: 40.9915 - accuracy: 0.6875 - val_loss: 1.9188 - val_accuracy: 0.7500\n",
            "Epoch 95/100\n",
            "1/1 [==============================] - 0s 35ms/step - loss: 55.3601 - accuracy: 0.4375 - val_loss: 1.9216 - val_accuracy: 0.7500\n",
            "Epoch 96/100\n",
            "1/1 [==============================] - 0s 39ms/step - loss: 16.3789 - accuracy: 0.4375 - val_loss: 1.9286 - val_accuracy: 0.7500\n",
            "Epoch 97/100\n",
            "1/1 [==============================] - 0s 37ms/step - loss: 28.1297 - accuracy: 0.3750 - val_loss: 1.9138 - val_accuracy: 0.7500\n",
            "Epoch 98/100\n",
            "1/1 [==============================] - 0s 32ms/step - loss: 43.0085 - accuracy: 0.4375 - val_loss: 1.8990 - val_accuracy: 0.7500\n",
            "Epoch 99/100\n",
            "1/1 [==============================] - 0s 37ms/step - loss: 17.4578 - accuracy: 0.6250 - val_loss: 1.9083 - val_accuracy: 0.7500\n",
            "Epoch 100/100\n",
            "1/1 [==============================] - 0s 50ms/step - loss: 18.7324 - accuracy: 0.6875 - val_loss: 1.9005 - val_accuracy: 0.7500\n",
            "1/1 [==============================] - 0s 18ms/step - loss: 1.9005 - accuracy: 0.7500\n",
            "Test Loss: 1.9004831314086914\n",
            "Test Accuracy: 0.75\n"
          ]
        }
      ]
    },
    {
      "cell_type": "code",
      "source": [
        "import tensorflow as tf\n",
        "\n",
        "# Save the model\n",
        "model.save(\"ann_durio.h5\")\n",
        "\n",
        "# Convert the model to TensorFlow Lite\n",
        "converter = tf.lite.TFLiteConverter.from_keras_model(model)\n",
        "tflite_model = converter.convert()\n",
        "with open('ann_model.tflite', 'wb') as f:\n",
        "    f.write(tflite_model)"
      ],
      "metadata": {
        "colab": {
          "base_uri": "https://localhost:8080/",
          "height": 0
        },
        "id": "DXS2xdmxHZD_",
        "outputId": "aaff53a5-fc2d-451d-fb7b-67c7d7098974"
      },
      "execution_count": 12,
      "outputs": [
        {
          "output_type": "stream",
          "name": "stderr",
          "text": [
            "/usr/local/lib/python3.10/dist-packages/keras/src/engine/training.py:3103: UserWarning: You are saving your model as an HDF5 file via `model.save()`. This file format is considered legacy. We recommend using instead the native Keras format, e.g. `model.save('my_model.keras')`.\n",
            "  saving_api.save_model(\n"
          ]
        }
      ]
    },
    {
      "cell_type": "markdown",
      "source": [
        ".\n",
        ".\n",
        ".\n",
        ".\n",
        ".\n",
        ".\n",
        ".\n",
        "\n",
        ".\n",
        ".\n",
        ".\n",
        ".\n",
        ".\n",
        ".\n",
        ".\n",
        "\n",
        ".\n",
        ".\n",
        ".\n",
        ".\n",
        ".\n",
        ".\n",
        ".\n",
        ".\n",
        "\n"
      ],
      "metadata": {
        "id": "qG6JWRrIJfkS"
      }
    },
    {
      "cell_type": "code",
      "source": [
        "# import numpy as np\n",
        "# import tensorflow as tf\n",
        "# from sklearn.preprocessing import MinMaxScaler\n",
        "\n",
        "# # Load the saved model\n",
        "# model = tf.keras.models.load_model(\"fruit_ripeness_prediction_model.keras\")\n",
        "\n",
        "# # Provided data\n",
        "# new_sensor_readings = np.array([795,833,859,874,885,892,897,900,902,903,903,904,904,904,904,904,904,904,904,904,904,904,904,904,904,904,904,904,904,904,904,904,904,904,904,904,904,904,904,904,904,904,904,904,904,904,904,904,904,904,904,904,904,904,904,904,904,904,904,904]).reshape(1, -1)\n",
        "\n",
        "# scaler = MinMaxScaler()\n",
        "# scaler.fit_transform(np.zeros((1, 60)))\n",
        "\n",
        "# new_sensor_readings_scaled = scaler.transform(new_sensor_readings)\n",
        "\n",
        "# # Make predictions\n",
        "# prediction = model.predict(new_sensor_readings_scaled)\n",
        "\n",
        "# # Convert prediction to a human-readable format (e.g., ripe or not ripe)\n",
        "# if prediction >= 0.5:\n",
        "#     print(\"Predicted ripeness: Ripe\")\n",
        "# else:\n",
        "#     print(\"Predicted ripeness: Not ripe\")"
      ],
      "metadata": {
        "colab": {
          "base_uri": "https://localhost:8080/"
        },
        "id": "qMCeyPRy3zP3",
        "outputId": "b1a71a79-56fc-4285-c525-2422074da3f3"
      },
      "execution_count": null,
      "outputs": [
        {
          "output_type": "stream",
          "name": "stdout",
          "text": [
            "1/1 [==============================] - 0s 140ms/step\n",
            "Predicted ripeness: Ripe\n"
          ]
        }
      ]
    },
    {
      "cell_type": "code",
      "source": [
        "# import numpy as np\n",
        "# import tensorflow as tf\n",
        "# from sklearn.preprocessing import MinMaxScaler\n",
        "\n",
        "# # Load the saved model\n",
        "# model = tf.keras.models.load_model(\"fruit_ripeness_prediction_model.keras\")\n",
        "\n",
        "# # Assuming you have new sensor readings for which you want to predict ripeness\n",
        "# new_sensor_readings = np.random.rand(10).reshape(1, -1)  # Example new sensor readings\n",
        "\n",
        "# # Load the scaler used during training\n",
        "# scaler = MinMaxScaler()  # Initialize a new scaler\n",
        "# scaler.fit_transform(np.zeros((1, 10)))  # Fit the scaler to any dummy data to initialize its parameters\n",
        "\n",
        "# # Normalize the input features using the loaded scaler\n",
        "# new_sensor_readings_scaled = scaler.transform(new_sensor_readings)\n",
        "\n",
        "# # Make predictions\n",
        "# prediction = model.predict(new_sensor_readings_scaled)\n",
        "\n",
        "# # Convert prediction to a human-readable format (e.g., ripe or not ripe)\n",
        "# if prediction >= 0.5:\n",
        "#     print(\"Predicted ripeness: Ripe\")\n",
        "# else:\n",
        "#     print(\"Predicted ripeness: Not ripe\")"
      ],
      "metadata": {
        "colab": {
          "base_uri": "https://localhost:8080/"
        },
        "id": "cVpyvH_9PXC2",
        "outputId": "59878e3b-dee0-4866-e08c-34ee7cde076c"
      },
      "execution_count": null,
      "outputs": [
        {
          "output_type": "stream",
          "name": "stdout",
          "text": [
            "1/1 [==============================] - 0s 65ms/step\n",
            "Predicted ripeness: Not ripe\n"
          ]
        }
      ]
    },
    {
      "cell_type": "code",
      "source": [
        "# import numpy as np\n",
        "# import tensorflow as tf\n",
        "# from sklearn.preprocessing import MinMaxScaler\n",
        "\n",
        "# # Load the saved model\n",
        "# model = tf.keras.models.load_model(\"fruit_ripeness_prediction_model.keras\")\n",
        "\n",
        "# # Assuming you have new sensor readings for which you want to predict ripeness\n",
        "# new_sensor_readings = np.random.rand(10).reshape(1, -1)  # Example new sensor readings\n",
        "\n",
        "# # Load the scaler used during training\n",
        "# scaler = MinMaxScaler()  # Initialize a new scaler\n",
        "# scaler.fit_transform(np.zeros((1, 10)))  # Fit the scaler to any dummy data to initialize its parameters\n",
        "\n",
        "# # Normalize the input features using the loaded scaler\n",
        "# new_sensor_readings_scaled = scaler.transform(new_sensor_readings)\n",
        "\n",
        "# # Define a TensorFlow function for prediction\n",
        "# @tf.function\n",
        "# def predict(input_data):\n",
        "#     return model(input_data)\n",
        "\n",
        "# # Make predictions using the TensorFlow function\n",
        "# prediction = predict(tf.convert_to_tensor(new_sensor_readings_scaled, dtype=tf.float32))\n",
        "\n",
        "# # Convert prediction to a human-readable format (e.g., ripe or not ripe)\n",
        "# if prediction >= 0.5:\n",
        "#     print(\"Predicted ripeness: Ripe\")\n",
        "# else:\n",
        "#     print(\"Predicted ripeness: Not ripe\")\n"
      ],
      "metadata": {
        "colab": {
          "base_uri": "https://localhost:8080/"
        },
        "id": "nnKPluJ5QRyr",
        "outputId": "0b16634b-d89c-4ebb-ea44-50908573fd87"
      },
      "execution_count": null,
      "outputs": [
        {
          "output_type": "stream",
          "name": "stdout",
          "text": [
            "Predicted ripeness: Ripe\n"
          ]
        }
      ]
    },
    {
      "cell_type": "markdown",
      "source": [
        "You can connect your Jupyter Notebook, Flutter app, and Firebase together to create a seamless data pipeline. Here's a high-level overview of how you can achieve this:\n",
        "\n",
        "Firebase Setup:\n",
        "\n",
        "Set up a Firebase project in the Firebase console.\n",
        "Enable the necessary Firebase services such as Firestore, Authentication, or Cloud Storage, depending on your requirements.\n",
        "Firestore Integration:\n",
        "\n",
        "Use the Firebase SDK to integrate Firestore into your Flutter app. Firestore is a NoSQL cloud database provided by Firebase.\n",
        "You can use Firestore to store and retrieve data from your Flutter app.\n",
        "Flutter App:\n",
        "\n",
        "Develop your Flutter app and integrate Firebase SDKs using packages like firebase_core, cloud_firestore, firebase_auth, etc.\n",
        "Use Firebase Authentication for user authentication if needed.\n",
        "Implement functionality to read from and write to Firestore. This could involve fetching data from Firestore to display in your app, as well as allowing users to submit data to Firestore.\n",
        "Jupyter Notebook:\n",
        "\n",
        "Use the Firebase Admin SDK for Python to interact with Firebase services from your Jupyter Notebook.\n",
        "Authenticate your Notebook with Firebase using a service account.\n",
        "Use the Firebase Admin SDK to read from and write to Firestore, Cloud Storage, or other Firebase services directly from your Notebook.\n",
        "Connecting Jupyter Notebook with Flutter App:\n",
        "\n",
        "Expose an API or create a backend service (using Flask, Django, or any other backend framework) that interacts with Firebase using the Firebase Admin SDK.\n",
        "Your Flutter app can then make HTTP requests to this API to fetch data from Firestore or perform other operations.\n",
        "Real-time Updates:\n",
        "\n",
        "Both Firestore and Firebase Realtime Database offer real-time synchronization and can notify your app of data changes in real time.\n",
        "You can set up listeners in your Flutter app to receive real-time updates from Firestore whenever data changes.\n",
        "Security Rules:\n",
        "\n",
        "Implement Firebase Security Rules to control access to your data. Security rules allow you to specify who can read and write data in Firestore based on various conditions.\n",
        "Deployment:\n",
        "\n",
        "Deploy your Flutter app to app stores (Google Play Store, Apple App Store) and your backend service to a hosting provider like Firebase Hosting or Google Cloud Platform.\n",
        "By following these steps, you can create a connected system where your Flutter app interacts with Firebase services for data storage and authentication, and your Jupyter Notebook can analyze and manipulate data stored in Firebase using the Firebase Admin SDK."
      ],
      "metadata": {
        "id": "aM4sTqbQRNEO"
      }
    },
    {
      "cell_type": "code",
      "source": [
        "import numpy as np\n",
        "import seaborn as sns\n",
        "import matplotlib.pyplot as plt\n",
        "from sklearn.metrics import confusion_matrix\n",
        "\n",
        "# Assuming you have the true labels and predicted labels\n",
        "true_labels = [1, 0, 1, 0, 1, 0, 1, 0, 1, 0]  # Example true labels\n",
        "predicted_labels = [1, 0, 1, 1, 1, 0, 0, 0, 1, 1]  # Example predicted labels\n",
        "\n",
        "# Calculate the confusion matrix\n",
        "conf_matrix = confusion_matrix(true_labels, predicted_labels)\n",
        "\n",
        "# Define labels for confusion matrix\n",
        "labels = ['True Negative', 'False Positive', 'False Negative', 'True Positive']\n",
        "\n",
        "# Reshape the confusion matrix for visualization\n",
        "conf_matrix_flatten = np.array(conf_matrix).flatten()\n",
        "\n",
        "# Define colors for the confusion matrix cells\n",
        "colors = ['lightgray', 'lightcoral', 'lightcoral', 'lightgray']\n",
        "\n",
        "# Plot the confusion matrix as a heatmap\n",
        "plt.figure(figsize=(6, 4))\n",
        "sns.heatmap(conf_matrix.reshape(2, 2), annot=True, fmt='d', cmap='Blues', cbar=False, xticklabels=['Negative', 'Positive'], yticklabels=['Negative', 'Positive'])\n",
        "plt.xlabel('Predicted')\n",
        "plt.ylabel('Actual')\n",
        "plt.title('Confusion Matrix')\n",
        "plt.show()\n"
      ],
      "metadata": {
        "colab": {
          "base_uri": "https://localhost:8080/",
          "height": 410
        },
        "id": "DAzueEUAfe6T",
        "outputId": "c996bbbd-b9c0-4872-d49a-688c18086f39"
      },
      "execution_count": null,
      "outputs": [
        {
          "output_type": "display_data",
          "data": {
            "text/plain": [
              "<Figure size 600x400 with 1 Axes>"
            ],
            "image/png": "[encoded data removed]"
          },
          "metadata": {}
        }
      ]
    }
  ]
}